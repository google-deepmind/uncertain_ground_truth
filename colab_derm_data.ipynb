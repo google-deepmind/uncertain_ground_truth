{
 "cells": [
  {
   "cell_type": "markdown",
   "metadata": {
    "id": "XZufU3a6526s"
   },
   "source": [
    "# Dermatology dataset\n",
    "\n",
    "See `README.md` for installation and usage instructions.\n",
    "\n",
    "This notebook pre-processes the provided dermatoloty data from [1, 2].\n",
    "\n",
    "```\n",
    "[1] Stutz, D., Roy, A.G., Matejovicova, T., Strachan, P., Cemgil, A.T.,\n",
    "    & Doucet, A. (2023).\n",
    "    Conformal prediction under ambiguous ground truth. ArXiv, abs/2307.09302.\n",
    "[2] Stutz, D., Cemgil, A.T., Roy, A.G., Matejovicova, T., Barsbey, M.,\n",
    "    Strachan, P., Schaekermann, M., Freyberg, J.V., Rikhye, R.V., Freeman, B.,\n",
    "    Matos, J.P., Telang, U., Webster, D.R., Liu, Y., Corrado, G.S., Matias, Y.,\n",
    "    Kohli, P., Liu, Y., Doucet, A., & Karthikesalingam, A. (2023).\n",
    "    Evaluating AI systems under uncertain ground truth: a case study in\n",
    "    dermatology. ArXiv, abs/2307.02191.\n",
    "```"
   ]
  },
  {
   "cell_type": "markdown",
   "metadata": {
    "id": "0r8Fknn4526v"
   },
   "source": [
    "## Imports"
   ]
  },
  {
   "cell_type": "code",
   "execution_count": null,
   "metadata": {
    "id": "n7xcmSTq526v"
   },
   "outputs": [],
   "source": [
    "import numpy as np\n",
    "import os\n",
    "import json\n",
    "import pickle"
   ]
  },
  {
   "cell_type": "code",
   "execution_count": null,
   "metadata": {
    "id": "F2rhARgT526w"
   },
   "outputs": [],
   "source": [
    "import formats\n",
    "import selectors_utils\n",
    "import irn"
   ]
  },
  {
   "cell_type": "markdown",
   "metadata": {
    "id": "-2msax8z526w"
   },
   "source": [
    "## Data"
   ]
  },
  {
   "cell_type": "code",
   "execution_count": null,
   "metadata": {
    "id": "TWmFgl8g526x"
   },
   "outputs": [],
   "source": [
    "with open('data/dermatology_selectors.json', 'r') as f:\n",
    "  selectors = json.load(f)"
   ]
  },
  {
   "cell_type": "code",
   "execution_count": null,
   "metadata": {
    "id": "zJdUoBg9526x"
   },
   "outputs": [],
   "source": [
    "padded_selectors = selectors_utils.pad_selectors(selectors, 10)\n",
    "rankings, groups = formats.convert_selectors_to_rankings(padded_selectors, 419)\n",
    "plausibilities = irn.aggregate_irn(rankings, groups)"
   ]
  },
  {
   "cell_type": "code",
   "execution_count": null,
   "metadata": {
    "id": "xzRRQg0x526x"
   },
   "outputs": [],
   "source": [
    "data = {\n",
    "    'test_irn': plausibilities,\n",
    "    'test_selectors': selectors,\n",
    "    'test_rankings': rankings,\n",
    "    'test_groups': groups,\n",
    "}\n",
    "with open('data/dermatology_data.pkl', 'wb') as f:\n",
    "  pickle.dump(data, f)"
   ]
  }
 ],
 "metadata": {
  "colab": {
   "private_outputs": true,
   "provenance": []
  },
  "kernelspec": {
   "display_name": "Python 3 (ipykernel)",
   "language": "python",
   "name": "python3"
  },
  "language_info": {
   "codemirror_mode": {
    "name": "ipython",
    "version": 3
   },
   "file_extension": ".py",
   "mimetype": "text/x-python",
   "name": "python",
   "nbconvert_exporter": "python",
   "pygments_lexer": "ipython3",
   "version": "3.9.18"
  }
 },
 "nbformat": 4,
 "nbformat_minor": 4
}
